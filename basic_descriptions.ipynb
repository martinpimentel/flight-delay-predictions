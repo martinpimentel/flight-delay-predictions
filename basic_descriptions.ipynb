{
 "cells": [
  {
   "cell_type": "code",
   "execution_count": 1,
   "metadata": {},
   "outputs": [],
   "source": [
    "import pandas as pd\n",
    "import numpy as np\n",
    "import matplotlib.pyplot as plt\n",
    "import seaborn as sns\n",
    "\n",
    "df = pd.read_csv('data/flights_processed.csv')"
   ]
  },
  {
   "cell_type": "markdown",
   "metadata": {},
   "source": [
    "## Comenzamos con un EDA principal"
   ]
  },
  {
   "cell_type": "code",
   "execution_count": 24,
   "metadata": {},
   "outputs": [
    {
     "data": {
      "text/html": [
       "<div>\n",
       "<style scoped>\n",
       "    .dataframe tbody tr th:only-of-type {\n",
       "        vertical-align: middle;\n",
       "    }\n",
       "\n",
       "    .dataframe tbody tr th {\n",
       "        vertical-align: top;\n",
       "    }\n",
       "\n",
       "    .dataframe thead th {\n",
       "        text-align: right;\n",
       "    }\n",
       "</style>\n",
       "<table border=\"1\" class=\"dataframe\">\n",
       "  <thead>\n",
       "    <tr style=\"text-align: right;\">\n",
       "      <th></th>\n",
       "      <th>Year</th>\n",
       "      <th>Month</th>\n",
       "      <th>DayOfMonth</th>\n",
       "      <th>DayOfWeek</th>\n",
       "      <th>FlightDate</th>\n",
       "      <th>Reporting_Airline</th>\n",
       "      <th>Tail_Number</th>\n",
       "      <th>Flight_Number_Reporting_Airline</th>\n",
       "      <th>Origin</th>\n",
       "      <th>OriginCityName</th>\n",
       "      <th>...</th>\n",
       "      <th>SecurityDelay</th>\n",
       "      <th>LateAircraftDelay</th>\n",
       "      <th>DivAirportLandings</th>\n",
       "      <th>DistanceBin</th>\n",
       "      <th>LogDepDelay15</th>\n",
       "      <th>DepHour</th>\n",
       "      <th>DepMinute</th>\n",
       "      <th>FlightsSameTime</th>\n",
       "      <th>FlightsSameTimeBin</th>\n",
       "      <th>FlightsSameTime80</th>\n",
       "    </tr>\n",
       "  </thead>\n",
       "  <tbody>\n",
       "    <tr>\n",
       "      <th>0</th>\n",
       "      <td>2023</td>\n",
       "      <td>1</td>\n",
       "      <td>1</td>\n",
       "      <td>7</td>\n",
       "      <td>2023-01-01</td>\n",
       "      <td>DL</td>\n",
       "      <td>N3758Y</td>\n",
       "      <td>2835</td>\n",
       "      <td>DEN</td>\n",
       "      <td>Denver, CO</td>\n",
       "      <td>...</td>\n",
       "      <td>0.0</td>\n",
       "      <td>72.0</td>\n",
       "      <td>0</td>\n",
       "      <td>250</td>\n",
       "      <td>4.276666</td>\n",
       "      <td>12</td>\n",
       "      <td>44</td>\n",
       "      <td>32</td>\n",
       "      <td>30</td>\n",
       "      <td>False</td>\n",
       "    </tr>\n",
       "    <tr>\n",
       "      <th>1</th>\n",
       "      <td>2023</td>\n",
       "      <td>1</td>\n",
       "      <td>1</td>\n",
       "      <td>7</td>\n",
       "      <td>2023-01-01</td>\n",
       "      <td>B6</td>\n",
       "      <td>N590JB</td>\n",
       "      <td>1370</td>\n",
       "      <td>MCO</td>\n",
       "      <td>Orlando, FL</td>\n",
       "      <td>...</td>\n",
       "      <td>0.0</td>\n",
       "      <td>0.0</td>\n",
       "      <td>0</td>\n",
       "      <td>500</td>\n",
       "      <td>4.605170</td>\n",
       "      <td>17</td>\n",
       "      <td>13</td>\n",
       "      <td>31</td>\n",
       "      <td>30</td>\n",
       "      <td>False</td>\n",
       "    </tr>\n",
       "    <tr>\n",
       "      <th>2</th>\n",
       "      <td>2023</td>\n",
       "      <td>1</td>\n",
       "      <td>1</td>\n",
       "      <td>7</td>\n",
       "      <td>2023-01-01</td>\n",
       "      <td>B6</td>\n",
       "      <td>N323JB</td>\n",
       "      <td>1371</td>\n",
       "      <td>LGA</td>\n",
       "      <td>New York, NY</td>\n",
       "      <td>...</td>\n",
       "      <td>0.0</td>\n",
       "      <td>NaN</td>\n",
       "      <td>0</td>\n",
       "      <td>1000</td>\n",
       "      <td>0.000000</td>\n",
       "      <td>9</td>\n",
       "      <td>0</td>\n",
       "      <td>20</td>\n",
       "      <td>15</td>\n",
       "      <td>False</td>\n",
       "    </tr>\n",
       "    <tr>\n",
       "      <th>3</th>\n",
       "      <td>2023</td>\n",
       "      <td>1</td>\n",
       "      <td>1</td>\n",
       "      <td>7</td>\n",
       "      <td>2023-01-01</td>\n",
       "      <td>B6</td>\n",
       "      <td>N323JB</td>\n",
       "      <td>1372</td>\n",
       "      <td>FLL</td>\n",
       "      <td>Fort Lauderdale, FL</td>\n",
       "      <td>...</td>\n",
       "      <td>0.0</td>\n",
       "      <td>NaN</td>\n",
       "      <td>0</td>\n",
       "      <td>1000</td>\n",
       "      <td>0.000000</td>\n",
       "      <td>13</td>\n",
       "      <td>5</td>\n",
       "      <td>10</td>\n",
       "      <td>5</td>\n",
       "      <td>False</td>\n",
       "    </tr>\n",
       "    <tr>\n",
       "      <th>4</th>\n",
       "      <td>2023</td>\n",
       "      <td>1</td>\n",
       "      <td>1</td>\n",
       "      <td>7</td>\n",
       "      <td>2023-01-01</td>\n",
       "      <td>B6</td>\n",
       "      <td>N962JT</td>\n",
       "      <td>1387</td>\n",
       "      <td>BOS</td>\n",
       "      <td>Boston, MA</td>\n",
       "      <td>...</td>\n",
       "      <td>0.0</td>\n",
       "      <td>0.0</td>\n",
       "      <td>0</td>\n",
       "      <td>2500</td>\n",
       "      <td>3.332205</td>\n",
       "      <td>21</td>\n",
       "      <td>5</td>\n",
       "      <td>9</td>\n",
       "      <td>5</td>\n",
       "      <td>False</td>\n",
       "    </tr>\n",
       "  </tbody>\n",
       "</table>\n",
       "<p>5 rows × 54 columns</p>\n",
       "</div>"
      ],
      "text/plain": [
       "   Year  Month  DayOfMonth  DayOfWeek  FlightDate Reporting_Airline  \\\n",
       "0  2023      1           1          7  2023-01-01                DL   \n",
       "1  2023      1           1          7  2023-01-01                B6   \n",
       "2  2023      1           1          7  2023-01-01                B6   \n",
       "3  2023      1           1          7  2023-01-01                B6   \n",
       "4  2023      1           1          7  2023-01-01                B6   \n",
       "\n",
       "  Tail_Number  Flight_Number_Reporting_Airline Origin       OriginCityName  \\\n",
       "0      N3758Y                             2835    DEN           Denver, CO   \n",
       "1      N590JB                             1370    MCO          Orlando, FL   \n",
       "2      N323JB                             1371    LGA         New York, NY   \n",
       "3      N323JB                             1372    FLL  Fort Lauderdale, FL   \n",
       "4      N962JT                             1387    BOS           Boston, MA   \n",
       "\n",
       "   ... SecurityDelay LateAircraftDelay DivAirportLandings DistanceBin  \\\n",
       "0  ...           0.0              72.0                  0         250   \n",
       "1  ...           0.0               0.0                  0         500   \n",
       "2  ...           0.0               NaN                  0        1000   \n",
       "3  ...           0.0               NaN                  0        1000   \n",
       "4  ...           0.0               0.0                  0        2500   \n",
       "\n",
       "  LogDepDelay15 DepHour  DepMinute  FlightsSameTime  FlightsSameTimeBin  \\\n",
       "0      4.276666      12         44               32                  30   \n",
       "1      4.605170      17         13               31                  30   \n",
       "2      0.000000       9          0               20                  15   \n",
       "3      0.000000      13          5               10                   5   \n",
       "4      3.332205      21          5                9                   5   \n",
       "\n",
       "   FlightsSameTime80  \n",
       "0              False  \n",
       "1              False  \n",
       "2              False  \n",
       "3              False  \n",
       "4              False  \n",
       "\n",
       "[5 rows x 54 columns]"
      ]
     },
     "execution_count": 24,
     "metadata": {},
     "output_type": "execute_result"
    }
   ],
   "source": [
    "df.head()"
   ]
  },
  {
   "cell_type": "code",
   "execution_count": 22,
   "metadata": {},
   "outputs": [
    {
     "name": "stdout",
     "output_type": "stream",
     "text": [
      "<class 'pandas.core.frame.DataFrame'>\n",
      "RangeIndex: 2147040 entries, 0 to 2147039\n",
      "Data columns (total 54 columns):\n",
      " #   Column                           Dtype  \n",
      "---  ------                           -----  \n",
      " 0   Year                             int64  \n",
      " 1   Month                            int64  \n",
      " 2   DayOfMonth                       int64  \n",
      " 3   DayOfWeek                        int64  \n",
      " 4   FlightDate                       object \n",
      " 5   Reporting_Airline                object \n",
      " 6   Tail_Number                      object \n",
      " 7   Flight_Number_Reporting_Airline  int64  \n",
      " 8   Origin                           object \n",
      " 9   OriginCityName                   object \n",
      " 10  OriginState                      object \n",
      " 11  OriginStateName                  object \n",
      " 12  Dest                             object \n",
      " 13  DestCityName                     object \n",
      " 14  DestState                        object \n",
      " 15  DestStateName                    object \n",
      " 16  CRSDepTime                       int64  \n",
      " 17  DepTime                          float64\n",
      " 18  DepDelay                         float64\n",
      " 19  DepDelayMinutes                  float64\n",
      " 20  DepDel15                         float64\n",
      " 21  DepartureDelayGroups             float64\n",
      " 22  DepTimeBlk                       object \n",
      " 23  TaxiOut                          float64\n",
      " 24  WheelsOff                        float64\n",
      " 25  WheelsOn                         float64\n",
      " 26  TaxiIn                           float64\n",
      " 27  CRSArrTime                       int64  \n",
      " 28  ArrTime                          float64\n",
      " 29  ArrDelay                         float64\n",
      " 30  ArrDelayMinutes                  float64\n",
      " 31  ArrDel15                         float64\n",
      " 32  ArrivalDelayGroups               float64\n",
      " 33  ArrTimeBlk                       object \n",
      " 34  Cancelled                        float64\n",
      " 35  Diverted                         float64\n",
      " 36  CRSElapsedTime                   float64\n",
      " 37  ActualElapsedTime                float64\n",
      " 38  AirTime                          float64\n",
      " 39  Distance                         float64\n",
      " 40  DistanceGroup                    int64  \n",
      " 41  CarrierDelay                     float64\n",
      " 42  WeatherDelay                     float64\n",
      " 43  NASDelay                         float64\n",
      " 44  SecurityDelay                    float64\n",
      " 45  LateAircraftDelay                float64\n",
      " 46  DivAirportLandings               int64  \n",
      " 47  DistanceBin                      int64  \n",
      " 48  LogDepDelay15                    float64\n",
      " 49  DepHour                          int64  \n",
      " 50  DepMinute                        int64  \n",
      " 51  FlightsSameTime                  int64  \n",
      " 52  FlightsSameTimeBin               int64  \n",
      " 53  FlightsSameTime80                bool   \n",
      "dtypes: bool(1), float64(26), int64(14), object(13)\n",
      "memory usage: 870.2+ MB\n"
     ]
    }
   ],
   "source": [
    "df.info()"
   ]
  },
  {
   "cell_type": "code",
   "execution_count": 5,
   "metadata": {},
   "outputs": [
    {
     "data": {
      "text/html": [
       "<div>\n",
       "<style scoped>\n",
       "    .dataframe tbody tr th:only-of-type {\n",
       "        vertical-align: middle;\n",
       "    }\n",
       "\n",
       "    .dataframe tbody tr th {\n",
       "        vertical-align: top;\n",
       "    }\n",
       "\n",
       "    .dataframe thead th {\n",
       "        text-align: right;\n",
       "    }\n",
       "</style>\n",
       "<table border=\"1\" class=\"dataframe\">\n",
       "  <thead>\n",
       "    <tr style=\"text-align: right;\">\n",
       "      <th></th>\n",
       "      <th>Year</th>\n",
       "      <th>Month</th>\n",
       "      <th>DayOfMonth</th>\n",
       "      <th>DayOfWeek</th>\n",
       "      <th>FlightDate</th>\n",
       "      <th>Reporting_Airline</th>\n",
       "      <th>Tail_Number</th>\n",
       "      <th>Flight_Number_Reporting_Airline</th>\n",
       "      <th>Origin</th>\n",
       "      <th>OriginCityName</th>\n",
       "      <th>...</th>\n",
       "      <th>ActualElapsedTime</th>\n",
       "      <th>AirTime</th>\n",
       "      <th>Distance</th>\n",
       "      <th>DistanceGroup</th>\n",
       "      <th>CarrierDelay</th>\n",
       "      <th>WeatherDelay</th>\n",
       "      <th>NASDelay</th>\n",
       "      <th>SecurityDelay</th>\n",
       "      <th>LateAircraftDelay</th>\n",
       "      <th>DivAirportLandings</th>\n",
       "    </tr>\n",
       "  </thead>\n",
       "  <tbody>\n",
       "  </tbody>\n",
       "</table>\n",
       "<p>0 rows × 47 columns</p>\n",
       "</div>"
      ],
      "text/plain": [
       "Empty DataFrame\n",
       "Columns: [Year, Month, DayOfMonth, DayOfWeek, FlightDate, Reporting_Airline, Tail_Number, Flight_Number_Reporting_Airline, Origin, OriginCityName, OriginState, OriginStateName, Dest, DestCityName, DestState, DestStateName, CRSDepTime, DepTime, DepDelay, DepDelayMinutes, DepDel15, DepartureDelayGroups, DepTimeBlk, TaxiOut, WheelsOff, WheelsOn, TaxiIn, CRSArrTime, ArrTime, ArrDelay, ArrDelayMinutes, ArrDel15, ArrivalDelayGroups, ArrTimeBlk, Cancelled, Diverted, CRSElapsedTime, ActualElapsedTime, AirTime, Distance, DistanceGroup, CarrierDelay, WeatherDelay, NASDelay, SecurityDelay, LateAircraftDelay, DivAirportLandings]\n",
       "Index: []\n",
       "\n",
       "[0 rows x 47 columns]"
      ]
     },
     "execution_count": 5,
     "metadata": {},
     "output_type": "execute_result"
    }
   ],
   "source": [
    "df[df.duplicated() == True] #No hay filas duplicadas"
   ]
  },
  {
   "cell_type": "code",
   "execution_count": 6,
   "metadata": {},
   "outputs": [
    {
     "data": {
      "text/plain": [
       "[Text(0, 0.5, 'Minutos de atraso')]"
      ]
     },
     "execution_count": 6,
     "metadata": {},
     "output_type": "execute_result"
    },
    {
     "data": {
      "image/png": "[encoded data removed]",
      "text/plain": [
       "<Figure size 432x288 with 1 Axes>"
      ]
     },
     "metadata": {
      "needs_background": "light"
     },
     "output_type": "display_data"
    }
   ],
   "source": [
    "sns.set(style='whitegrid', palette=\"deep\", font_scale=1.1, rc={\"figure.figsize\": [4, 5]})\n",
    "sns.boxplot(\n",
    "    df['DepDelayMinutes'], \n",
    ").set(ylabel='Minutos de atraso')"
   ]
  },
  {
   "cell_type": "code",
   "execution_count": 9,
   "metadata": {},
   "outputs": [
    {
     "name": "stderr",
     "output_type": "stream",
     "text": [
      "c:\\Users\\marti\\AppData\\Local\\Programs\\Python\\Python310\\lib\\site-packages\\pandas\\core\\arraylike.py:402: RuntimeWarning: divide by zero encountered in log\n",
      "  result = getattr(ufunc, method)(*inputs, **kwargs)\n",
      "c:\\Users\\marti\\AppData\\Local\\Programs\\Python\\Python310\\lib\\site-packages\\pandas\\core\\arraylike.py:402: RuntimeWarning: invalid value encountered in log\n",
      "  result = getattr(ufunc, method)(*inputs, **kwargs)\n"
     ]
    },
    {
     "data": {
      "image/png": "[encoded data removed]",
      "text/plain": [
       "<Figure size 432x288 with 1 Axes>"
      ]
     },
     "metadata": {
      "needs_background": "light"
     },
     "output_type": "display_data"
    }
   ],
   "source": [
    "LogDepDelay15 = np.where(df['DepDelay'] > 15, np.log(df['DepDelay']), 0)\n",
    "\n",
    "plt.figure(figsize=(6, 4))\n",
    "sns.histplot(x=LogDepDelay15, bins=30)\n",
    "plt.ticklabel_format(style='plain', axis='y')\n",
    "plt.title('Distribution of Flight Delay in minutes')\n",
    "plt.xlabel('Delay in minutes')\n",
    "plt.ylabel('Frequency')\n",
    "plt.show()"
   ]
  },
  {
   "cell_type": "code",
   "execution_count": 21,
   "metadata": {},
   "outputs": [
    {
     "name": "stderr",
     "output_type": "stream",
     "text": [
      "c:\\Users\\marti\\AppData\\Local\\Programs\\Python\\Python310\\lib\\site-packages\\pandas\\core\\arraylike.py:402: RuntimeWarning: divide by zero encountered in log\n",
      "  result = getattr(ufunc, method)(*inputs, **kwargs)\n",
      "c:\\Users\\marti\\AppData\\Local\\Programs\\Python\\Python310\\lib\\site-packages\\pandas\\core\\arraylike.py:402: RuntimeWarning: invalid value encountered in log\n",
      "  result = getattr(ufunc, method)(*inputs, **kwargs)\n"
     ]
    },
    {
     "data": {
      "image/png": "[encoded data removed]",
      "text/plain": [
       "<Figure size 432x288 with 1 Axes>"
      ]
     },
     "metadata": {
      "needs_background": "light"
     },
     "output_type": "display_data"
    }
   ],
   "source": [
    "LogDepDelay15 = np.where(df['DepDelay'] > 15, np.log(df['DepDelay']), None)\n",
    "LogDepDelay15 = LogDepDelay15.astype(float)\n",
    "mask = np.isnan(LogDepDelay15)\n",
    "LogDepDelay15 = LogDepDelay15[~mask]\n",
    "\n",
    "plt.figure(figsize=(6, 4))\n",
    "sns.histplot(x=LogDepDelay15, bins=30)\n",
    "plt.ticklabel_format(style='plain', axis='y')\n",
    "plt.title('Distribution of Flight Delay (> 15 minutes) in log minutes')\n",
    "plt.xlabel('Delay in log minutes')\n",
    "plt.ylabel('Frequency')\n",
    "plt.show()"
   ]
  },
  {
   "cell_type": "code",
   "execution_count": 35,
   "metadata": {},
   "outputs": [
    {
     "data": {
      "image/png": "[encoded data removed]",
      "text/plain": [
       "<Figure size 432x288 with 1 Axes>"
      ]
     },
     "metadata": {
      "needs_background": "light"
     },
     "output_type": "display_data"
    }
   ],
   "source": [
    "proportions = df['DepDel15'].value_counts(normalize=True)\n",
    "colors = ['green','red']\n",
    "plt.bar(proportions.index.astype(str), proportions.values, color=colors)\n",
    "plt.xlabel('Is delayed (> 15 minutes)')\n",
    "plt.ylabel('Proportion')\n",
    "plt.title('Proportion of Delayed flights at Departure')\n",
    "for i, v in enumerate(proportions.values):\n",
    "    plt.text(i, v, f'{v:.2f}', ha='center', va='bottom')\n",
    "plt.show()"
   ]
  },
  {
   "cell_type": "code",
   "execution_count": 7,
   "metadata": {},
   "outputs": [
    {
     "data": {
      "image/png": "[encoded data removed]",
      "text/plain": [
       "<Figure size 432x288 with 1 Axes>"
      ]
     },
     "metadata": {
      "needs_background": "light"
     },
     "output_type": "display_data"
    }
   ],
   "source": [
    "plt.figure(figsize=(6, 4))\n",
    "sns.histplot(data=df, x='Distance', bins=30)\n",
    "plt.title('Distribution of Flight Distances')\n",
    "plt.xlabel('Distance')\n",
    "plt.ylabel('Frequency')\n",
    "plt.show()"
   ]
  },
  {
   "cell_type": "code",
   "execution_count": 25,
   "metadata": {},
   "outputs": [
    {
     "data": {
      "image/png": "[encoded data removed]",
      "text/plain": [
       "<Figure size 720x360 with 1 Axes>"
      ]
     },
     "metadata": {
      "needs_background": "light"
     },
     "output_type": "display_data"
    }
   ],
   "source": [
    "plt.figure(figsize=(10, 5))\n",
    "sns.countplot(data=df, x='Reporting_Airline', order=df['Reporting_Airline'].value_counts().index, color='coral')\n",
    "plt.title('Number of Flights per Reporting Airline')\n",
    "plt.xlabel('Reporting Airline')\n",
    "plt.ylabel('Number of Flights')\n",
    "plt.xticks(rotation=45)\n",
    "plt.show()"
   ]
  },
  {
   "cell_type": "code",
   "execution_count": 9,
   "metadata": {},
   "outputs": [
    {
     "data": {
      "image/png": "[encoded data removed]",
      "text/plain": [
       "<Figure size 360x288 with 1 Axes>"
      ]
     },
     "metadata": {
      "needs_background": "light"
     },
     "output_type": "display_data"
    }
   ],
   "source": [
    "plt.figure(figsize=(5, 4))\n",
    "sns.boxplot(data=df, x='Cancelled', y='Distance')\n",
    "plt.title('Flight Distances by Cancellation Status')\n",
    "plt.xlabel('Cancelled')\n",
    "plt.ylabel('Distance')\n",
    "plt.xticks([0, 1], ['Not Cancelled', 'Cancelled'])\n",
    "plt.show()"
   ]
  },
  {
   "cell_type": "code",
   "execution_count": 10,
   "metadata": {},
   "outputs": [
    {
     "data": {
      "image/png": "[encoded data removed]",
      "text/plain": [
       "<Figure size 360x288 with 1 Axes>"
      ]
     },
     "metadata": {
      "needs_background": "light"
     },
     "output_type": "display_data"
    }
   ],
   "source": [
    "plt.figure(figsize=(5, 4))\n",
    "sns.countplot(data=df, x='Month')\n",
    "plt.title('Number of Flights per Month')\n",
    "plt.xlabel('Month')\n",
    "plt.ylabel('Number of Flights')\n",
    "plt.xticks(rotation=45)\n",
    "plt.show()"
   ]
  },
  {
   "cell_type": "code",
   "execution_count": 11,
   "metadata": {},
   "outputs": [],
   "source": [
    "df['DayOfMonth'] = df['DayOfMonth'].astype(str)\n",
    "df['DayOfWeek'] = df['DayOfWeek'].astype(str)"
   ]
  }
 ],
 "metadata": {
  "kernelspec": {
   "display_name": "Python 3",
   "language": "python",
   "name": "python3"
  },
  "language_info": {
   "codemirror_mode": {
    "name": "ipython",
    "version": 3
   },
   "file_extension": ".py",
   "mimetype": "text/x-python",
   "name": "python",
   "nbconvert_exporter": "python",
   "pygments_lexer": "ipython3",
   "version": "3.10.5"
  },
  "orig_nbformat": 4
 },
 "nbformat": 4,
 "nbformat_minor": 2
}
