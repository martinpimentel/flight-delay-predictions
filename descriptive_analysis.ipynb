{
 "cells": [
  {
   "cell_type": "code",
   "execution_count": 2,
   "metadata": {},
   "outputs": [],
   "source": [
    "import pandas as pd\n",
    "import numpy as np\n",
    "import matplotlib.pyplot as plt\n",
    "import seaborn as sns\n",
    "\n",
    "df = pd.read_csv('data/flights_processed.csv')"
   ]
  },
  {
   "cell_type": "code",
   "execution_count": 3,
   "metadata": {},
   "outputs": [
    {
     "data": {
      "text/html": [
       "<div>\n",
       "<style scoped>\n",
       "    .dataframe tbody tr th:only-of-type {\n",
       "        vertical-align: middle;\n",
       "    }\n",
       "\n",
       "    .dataframe tbody tr th {\n",
       "        vertical-align: top;\n",
       "    }\n",
       "\n",
       "    .dataframe thead th {\n",
       "        text-align: right;\n",
       "    }\n",
       "</style>\n",
       "<table border=\"1\" class=\"dataframe\">\n",
       "  <thead>\n",
       "    <tr style=\"text-align: right;\">\n",
       "      <th></th>\n",
       "      <th>Year</th>\n",
       "      <th>Month</th>\n",
       "      <th>DayOfMonth</th>\n",
       "      <th>DayOfWeek</th>\n",
       "      <th>FlightDate</th>\n",
       "      <th>Reporting_Airline</th>\n",
       "      <th>Tail_Number</th>\n",
       "      <th>Flight_Number_Reporting_Airline</th>\n",
       "      <th>Origin</th>\n",
       "      <th>OriginCityName</th>\n",
       "      <th>...</th>\n",
       "      <th>ActualElapsedTime</th>\n",
       "      <th>AirTime</th>\n",
       "      <th>Distance</th>\n",
       "      <th>DistanceGroup</th>\n",
       "      <th>CarrierDelay</th>\n",
       "      <th>WeatherDelay</th>\n",
       "      <th>NASDelay</th>\n",
       "      <th>SecurityDelay</th>\n",
       "      <th>LateAircraftDelay</th>\n",
       "      <th>DivAirportLandings</th>\n",
       "    </tr>\n",
       "  </thead>\n",
       "  <tbody>\n",
       "    <tr>\n",
       "      <th>0</th>\n",
       "      <td>2023</td>\n",
       "      <td>1</td>\n",
       "      <td>1</td>\n",
       "      <td>7</td>\n",
       "      <td>2023-01-01</td>\n",
       "      <td>DL</td>\n",
       "      <td>N3758Y</td>\n",
       "      <td>2835</td>\n",
       "      <td>DEN</td>\n",
       "      <td>Denver, CO</td>\n",
       "      <td>...</td>\n",
       "      <td>108.0</td>\n",
       "      <td>78.0</td>\n",
       "      <td>391.0</td>\n",
       "      <td>2</td>\n",
       "      <td>0.0</td>\n",
       "      <td>0.0</td>\n",
       "      <td>21.0</td>\n",
       "      <td>0.0</td>\n",
       "      <td>72.0</td>\n",
       "      <td>0</td>\n",
       "    </tr>\n",
       "    <tr>\n",
       "      <th>1</th>\n",
       "      <td>2023</td>\n",
       "      <td>1</td>\n",
       "      <td>1</td>\n",
       "      <td>7</td>\n",
       "      <td>2023-01-01</td>\n",
       "      <td>B6</td>\n",
       "      <td>N590JB</td>\n",
       "      <td>1370</td>\n",
       "      <td>MCO</td>\n",
       "      <td>Orlando, FL</td>\n",
       "      <td>...</td>\n",
       "      <td>123.0</td>\n",
       "      <td>90.0</td>\n",
       "      <td>667.0</td>\n",
       "      <td>3</td>\n",
       "      <td>100.0</td>\n",
       "      <td>0.0</td>\n",
       "      <td>9.0</td>\n",
       "      <td>0.0</td>\n",
       "      <td>0.0</td>\n",
       "      <td>0</td>\n",
       "    </tr>\n",
       "    <tr>\n",
       "      <th>2</th>\n",
       "      <td>2023</td>\n",
       "      <td>1</td>\n",
       "      <td>1</td>\n",
       "      <td>7</td>\n",
       "      <td>2023-01-01</td>\n",
       "      <td>B6</td>\n",
       "      <td>N323JB</td>\n",
       "      <td>1371</td>\n",
       "      <td>LGA</td>\n",
       "      <td>New York, NY</td>\n",
       "      <td>...</td>\n",
       "      <td>171.0</td>\n",
       "      <td>152.0</td>\n",
       "      <td>1076.0</td>\n",
       "      <td>5</td>\n",
       "      <td>0.0</td>\n",
       "      <td>0.0</td>\n",
       "      <td>0.0</td>\n",
       "      <td>0.0</td>\n",
       "      <td>NaN</td>\n",
       "      <td>0</td>\n",
       "    </tr>\n",
       "    <tr>\n",
       "      <th>3</th>\n",
       "      <td>2023</td>\n",
       "      <td>1</td>\n",
       "      <td>1</td>\n",
       "      <td>7</td>\n",
       "      <td>2023-01-01</td>\n",
       "      <td>B6</td>\n",
       "      <td>N323JB</td>\n",
       "      <td>1372</td>\n",
       "      <td>FLL</td>\n",
       "      <td>Fort Lauderdale, FL</td>\n",
       "      <td>...</td>\n",
       "      <td>169.0</td>\n",
       "      <td>133.0</td>\n",
       "      <td>1076.0</td>\n",
       "      <td>5</td>\n",
       "      <td>0.0</td>\n",
       "      <td>0.0</td>\n",
       "      <td>0.0</td>\n",
       "      <td>0.0</td>\n",
       "      <td>NaN</td>\n",
       "      <td>0</td>\n",
       "    </tr>\n",
       "    <tr>\n",
       "      <th>4</th>\n",
       "      <td>2023</td>\n",
       "      <td>1</td>\n",
       "      <td>1</td>\n",
       "      <td>7</td>\n",
       "      <td>2023-01-01</td>\n",
       "      <td>B6</td>\n",
       "      <td>N962JT</td>\n",
       "      <td>1387</td>\n",
       "      <td>BOS</td>\n",
       "      <td>Boston, MA</td>\n",
       "      <td>...</td>\n",
       "      <td>414.0</td>\n",
       "      <td>372.0</td>\n",
       "      <td>2611.0</td>\n",
       "      <td>11</td>\n",
       "      <td>28.0</td>\n",
       "      <td>0.0</td>\n",
       "      <td>11.0</td>\n",
       "      <td>0.0</td>\n",
       "      <td>0.0</td>\n",
       "      <td>0</td>\n",
       "    </tr>\n",
       "  </tbody>\n",
       "</table>\n",
       "<p>5 rows × 47 columns</p>\n",
       "</div>"
      ],
      "text/plain": [
       "   Year  Month  DayOfMonth  DayOfWeek  FlightDate Reporting_Airline  \\\n",
       "0  2023      1           1          7  2023-01-01                DL   \n",
       "1  2023      1           1          7  2023-01-01                B6   \n",
       "2  2023      1           1          7  2023-01-01                B6   \n",
       "3  2023      1           1          7  2023-01-01                B6   \n",
       "4  2023      1           1          7  2023-01-01                B6   \n",
       "\n",
       "  Tail_Number  Flight_Number_Reporting_Airline Origin       OriginCityName  \\\n",
       "0      N3758Y                             2835    DEN           Denver, CO   \n",
       "1      N590JB                             1370    MCO          Orlando, FL   \n",
       "2      N323JB                             1371    LGA         New York, NY   \n",
       "3      N323JB                             1372    FLL  Fort Lauderdale, FL   \n",
       "4      N962JT                             1387    BOS           Boston, MA   \n",
       "\n",
       "   ... ActualElapsedTime AirTime Distance DistanceGroup CarrierDelay  \\\n",
       "0  ...             108.0    78.0    391.0             2          0.0   \n",
       "1  ...             123.0    90.0    667.0             3        100.0   \n",
       "2  ...             171.0   152.0   1076.0             5          0.0   \n",
       "3  ...             169.0   133.0   1076.0             5          0.0   \n",
       "4  ...             414.0   372.0   2611.0            11         28.0   \n",
       "\n",
       "  WeatherDelay  NASDelay  SecurityDelay  LateAircraftDelay  DivAirportLandings  \n",
       "0          0.0      21.0            0.0               72.0                   0  \n",
       "1          0.0       9.0            0.0                0.0                   0  \n",
       "2          0.0       0.0            0.0                NaN                   0  \n",
       "3          0.0       0.0            0.0                NaN                   0  \n",
       "4          0.0      11.0            0.0                0.0                   0  \n",
       "\n",
       "[5 rows x 47 columns]"
      ]
     },
     "execution_count": 3,
     "metadata": {},
     "output_type": "execute_result"
    }
   ],
   "source": [
    "df.head()"
   ]
  },
  {
   "cell_type": "code",
   "execution_count": 4,
   "metadata": {},
   "outputs": [
    {
     "name": "stdout",
     "output_type": "stream",
     "text": [
      "<class 'pandas.core.frame.DataFrame'>\n",
      "RangeIndex: 2183349 entries, 0 to 2183348\n",
      "Data columns (total 47 columns):\n",
      " #   Column                           Dtype  \n",
      "---  ------                           -----  \n",
      " 0   Year                             int64  \n",
      " 1   Month                            int64  \n",
      " 2   DayOfMonth                       int64  \n",
      " 3   DayOfWeek                        int64  \n",
      " 4   FlightDate                       object \n",
      " 5   Reporting_Airline                object \n",
      " 6   Tail_Number                      object \n",
      " 7   Flight_Number_Reporting_Airline  int64  \n",
      " 8   Origin                           object \n",
      " 9   OriginCityName                   object \n",
      " 10  OriginState                      object \n",
      " 11  OriginStateName                  object \n",
      " 12  Dest                             object \n",
      " 13  DestCityName                     object \n",
      " 14  DestState                        object \n",
      " 15  DestStateName                    object \n",
      " 16  CRSDepTime                       int64  \n",
      " 17  DepTime                          float64\n",
      " 18  DepDelay                         float64\n",
      " 19  DepDelayMinutes                  float64\n",
      " 20  DepDel15                         float64\n",
      " 21  DepartureDelayGroups             float64\n",
      " 22  DepTimeBlk                       object \n",
      " 23  TaxiOut                          float64\n",
      " 24  WheelsOff                        float64\n",
      " 25  WheelsOn                         float64\n",
      " 26  TaxiIn                           float64\n",
      " 27  CRSArrTime                       int64  \n",
      " 28  ArrTime                          float64\n",
      " 29  ArrDelay                         float64\n",
      " 30  ArrDelayMinutes                  float64\n",
      " 31  ArrDel15                         float64\n",
      " 32  ArrivalDelayGroups               float64\n",
      " 33  ArrTimeBlk                       object \n",
      " 34  Cancelled                        float64\n",
      " 35  Diverted                         float64\n",
      " 36  CRSElapsedTime                   float64\n",
      " 37  ActualElapsedTime                float64\n",
      " 38  AirTime                          float64\n",
      " 39  Distance                         float64\n",
      " 40  DistanceGroup                    int64  \n",
      " 41  CarrierDelay                     float64\n",
      " 42  WeatherDelay                     float64\n",
      " 43  NASDelay                         float64\n",
      " 44  SecurityDelay                    float64\n",
      " 45  LateAircraftDelay                float64\n",
      " 46  DivAirportLandings               int64  \n",
      "dtypes: float64(25), int64(9), object(13)\n",
      "memory usage: 782.9+ MB\n"
     ]
    }
   ],
   "source": [
    "df.info()"
   ]
  },
  {
   "cell_type": "code",
   "execution_count": 5,
   "metadata": {},
   "outputs": [
    {
     "data": {
      "text/html": [
       "<div>\n",
       "<style scoped>\n",
       "    .dataframe tbody tr th:only-of-type {\n",
       "        vertical-align: middle;\n",
       "    }\n",
       "\n",
       "    .dataframe tbody tr th {\n",
       "        vertical-align: top;\n",
       "    }\n",
       "\n",
       "    .dataframe thead th {\n",
       "        text-align: right;\n",
       "    }\n",
       "</style>\n",
       "<table border=\"1\" class=\"dataframe\">\n",
       "  <thead>\n",
       "    <tr style=\"text-align: right;\">\n",
       "      <th></th>\n",
       "      <th>Year</th>\n",
       "      <th>Month</th>\n",
       "      <th>DayOfMonth</th>\n",
       "      <th>DayOfWeek</th>\n",
       "      <th>FlightDate</th>\n",
       "      <th>Reporting_Airline</th>\n",
       "      <th>Tail_Number</th>\n",
       "      <th>Flight_Number_Reporting_Airline</th>\n",
       "      <th>Origin</th>\n",
       "      <th>OriginCityName</th>\n",
       "      <th>...</th>\n",
       "      <th>ActualElapsedTime</th>\n",
       "      <th>AirTime</th>\n",
       "      <th>Distance</th>\n",
       "      <th>DistanceGroup</th>\n",
       "      <th>CarrierDelay</th>\n",
       "      <th>WeatherDelay</th>\n",
       "      <th>NASDelay</th>\n",
       "      <th>SecurityDelay</th>\n",
       "      <th>LateAircraftDelay</th>\n",
       "      <th>DivAirportLandings</th>\n",
       "    </tr>\n",
       "  </thead>\n",
       "  <tbody>\n",
       "  </tbody>\n",
       "</table>\n",
       "<p>0 rows × 47 columns</p>\n",
       "</div>"
      ],
      "text/plain": [
       "Empty DataFrame\n",
       "Columns: [Year, Month, DayOfMonth, DayOfWeek, FlightDate, Reporting_Airline, Tail_Number, Flight_Number_Reporting_Airline, Origin, OriginCityName, OriginState, OriginStateName, Dest, DestCityName, DestState, DestStateName, CRSDepTime, DepTime, DepDelay, DepDelayMinutes, DepDel15, DepartureDelayGroups, DepTimeBlk, TaxiOut, WheelsOff, WheelsOn, TaxiIn, CRSArrTime, ArrTime, ArrDelay, ArrDelayMinutes, ArrDel15, ArrivalDelayGroups, ArrTimeBlk, Cancelled, Diverted, CRSElapsedTime, ActualElapsedTime, AirTime, Distance, DistanceGroup, CarrierDelay, WeatherDelay, NASDelay, SecurityDelay, LateAircraftDelay, DivAirportLandings]\n",
       "Index: []\n",
       "\n",
       "[0 rows x 47 columns]"
      ]
     },
     "execution_count": 5,
     "metadata": {},
     "output_type": "execute_result"
    }
   ],
   "source": [
    "df[df.duplicated() == True] #No hay filas duplicadas"
   ]
  },
  {
   "cell_type": "code",
   "execution_count": 6,
   "metadata": {},
   "outputs": [
    {
     "data": {
      "text/plain": [
       "[Text(0, 0.5, 'Minutos de atraso')]"
      ]
     },
     "execution_count": 6,
     "metadata": {},
     "output_type": "execute_result"
    },
    {
     "data": {
      "image/png": "[encoded data removed]",
      "text/plain": [
       "<Figure size 432x288 with 1 Axes>"
      ]
     },
     "metadata": {
      "needs_background": "light"
     },
     "output_type": "display_data"
    }
   ],
   "source": [
    "sns.set(style='whitegrid', palette=\"deep\", font_scale=1.1, rc={\"figure.figsize\": [4, 5]})\n",
    "sns.boxplot(\n",
    "    df['DepDelayMinutes'], \n",
    ").set(ylabel='Minutos de atraso')"
   ]
  },
  {
   "cell_type": "code",
   "execution_count": 7,
   "metadata": {},
   "outputs": [
    {
     "data": {
      "image/png": "[encoded data removed]",
      "text/plain": [
       "<Figure size 432x288 with 1 Axes>"
      ]
     },
     "metadata": {
      "needs_background": "light"
     },
     "output_type": "display_data"
    }
   ],
   "source": [
    "plt.figure(figsize=(6, 4))\n",
    "sns.histplot(data=df, x='Distance', bins=30)\n",
    "plt.title('Distribution of Flight Distances')\n",
    "plt.xlabel('Distance')\n",
    "plt.ylabel('Frequency')\n",
    "plt.show()"
   ]
  },
  {
   "cell_type": "code",
   "execution_count": 8,
   "metadata": {},
   "outputs": [
    {
     "data": {
      "image/png": "[encoded data removed]",
      "text/plain": [
       "<Figure size 720x360 with 1 Axes>"
      ]
     },
     "metadata": {
      "needs_background": "light"
     },
     "output_type": "display_data"
    }
   ],
   "source": [
    "plt.figure(figsize=(10, 5))\n",
    "sns.countplot(data=df, x='Reporting_Airline', order=df['Reporting_Airline'].value_counts().index)\n",
    "plt.title('Number of Flights per Reporting Airline')\n",
    "plt.xlabel('Reporting Airline')\n",
    "plt.ylabel('Number of Flights')\n",
    "plt.xticks(rotation=45)\n",
    "plt.show()"
   ]
  },
  {
   "cell_type": "code",
   "execution_count": 9,
   "metadata": {},
   "outputs": [
    {
     "data": {
      "image/png": "[encoded data removed]",
      "text/plain": [
       "<Figure size 360x288 with 1 Axes>"
      ]
     },
     "metadata": {
      "needs_background": "light"
     },
     "output_type": "display_data"
    }
   ],
   "source": [
    "plt.figure(figsize=(5, 4))\n",
    "sns.boxplot(data=df, x='Cancelled', y='Distance')\n",
    "plt.title('Flight Distances by Cancellation Status')\n",
    "plt.xlabel('Cancelled')\n",
    "plt.ylabel('Distance')\n",
    "plt.xticks([0, 1], ['Not Cancelled', 'Cancelled'])\n",
    "plt.show()"
   ]
  },
  {
   "cell_type": "code",
   "execution_count": 10,
   "metadata": {},
   "outputs": [
    {
     "data": {
      "image/png": "[encoded data removed]",
      "text/plain": [
       "<Figure size 360x288 with 1 Axes>"
      ]
     },
     "metadata": {
      "needs_background": "light"
     },
     "output_type": "display_data"
    }
   ],
   "source": [
    "plt.figure(figsize=(5, 4))\n",
    "sns.countplot(data=df, x='Month')\n",
    "plt.title('Number of Flights per Month')\n",
    "plt.xlabel('Month')\n",
    "plt.ylabel('Number of Flights')\n",
    "plt.xticks(rotation=45)\n",
    "plt.show()"
   ]
  },
  {
   "cell_type": "markdown",
   "metadata": {},
   "source": [
    "### Preguntar a los profes cual nos conviene para predecir entre flightsametime y flightsametime80"
   ]
  },
  {
   "cell_type": "code",
   "execution_count": 11,
   "metadata": {},
   "outputs": [],
   "source": [
    "df['DayOfMonth'] = df['DayOfMonth'].astype(str)\n",
    "df['DayOfWeek'] = df['DayOfWeek'].astype(str)"
   ]
  }
 ],
 "metadata": {
  "kernelspec": {
   "display_name": "Python 3",
   "language": "python",
   "name": "python3"
  },
  "language_info": {
   "codemirror_mode": {
    "name": "ipython",
    "version": 3
   },
   "file_extension": ".py",
   "mimetype": "text/x-python",
   "name": "python",
   "nbconvert_exporter": "python",
   "pygments_lexer": "ipython3",
   "version": "3.10.5"
  },
  "orig_nbformat": 4
 },
 "nbformat": 4,
 "nbformat_minor": 2
}
