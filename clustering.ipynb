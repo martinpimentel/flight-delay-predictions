{
 "cells": [
  {
   "cell_type": "markdown",
   "metadata": {},
   "source": [
    "# Clustering"
   ]
  },
  {
   "cell_type": "code",
   "execution_count": 1,
   "metadata": {},
   "outputs": [],
   "source": [
    "import pandas as pd\n",
    "import numpy as np\n",
    "import matplotlib.pyplot as plt\n",
    "import seaborn as sns\n",
    "\n",
    "\n",
    "df = pd.read_csv('data/flights_processed.csv')"
   ]
  },
  {
   "cell_type": "markdown",
   "metadata": {},
   "source": [
    "## Separate into a new dataframe, relevant variables for clustering analysis"
   ]
  },
  {
   "cell_type": "code",
   "execution_count": 2,
   "metadata": {},
   "outputs": [
    {
     "name": "stdout",
     "output_type": "stream",
     "text": [
      "0.009593294047586461\n",
      "6.962546090193629e-45\n"
     ]
    }
   ],
   "source": [
    "from scipy import stats\n",
    "correlation_coefficient, p_value = stats.pointbiserialr(df['DepDel15'].replace(np.NaN, 0), df['FlightsSameTime80'])\n",
    "\n",
    "print(correlation_coefficient)\n",
    "print(p_value)"
   ]
  },
  {
   "cell_type": "code",
   "execution_count": 4,
   "metadata": {},
   "outputs": [
    {
     "name": "stdout",
     "output_type": "stream",
     "text": [
      "Chi-squared value: 197.14572007361102\n",
      "P-value: 8.764387175511548e-45\n"
     ]
    }
   ],
   "source": [
    "from scipy.stats import chi2_contingency\n",
    "\n",
    "contingency_table = pd.crosstab(df['DepDel15'], df['FlightsSameTime80'])\n",
    "\n",
    "# Perform chi-squared test\n",
    "chi2, p, _, _ = chi2_contingency(contingency_table)\n",
    "\n",
    "print(f\"Chi-squared value: {chi2}\")\n",
    "print(f\"P-value: {p}\")"
   ]
  },
  {
   "cell_type": "code",
   "execution_count": 6,
   "metadata": {},
   "outputs": [],
   "source": [
    "import statsmodels.api as sm\n",
    "contingency_table = pd.crosstab(df['FlightsSameTime80'], df['DepDel15'])\n",
    "\n",
    "# Perform z-test for proportions\n",
    "_, p_value = sm.stats.proportions_ztest(contingency_table.values[1], contingency_table.sum(axis=0))"
   ]
  },
  {
   "cell_type": "code",
   "execution_count": 11,
   "metadata": {},
   "outputs": [
    {
     "name": "stdout",
     "output_type": "stream",
     "text": [
      "   DistanceBins  ProportionDelayed\n",
      "0             0           0.179632\n",
      "1           250           0.185714\n",
      "2           500           0.204567\n",
      "3           750           0.230126\n",
      "4          1000           0.248719\n",
      "5          1250           0.226455\n",
      "6          1500           0.241812\n",
      "7          1750           0.243719\n",
      "8          2000           0.250015\n",
      "9          2250           0.225178\n",
      "10         2500           0.239912\n",
      "11         2750           0.189349\n",
      "12         3000           0.500000\n",
      "13         3250           0.257868\n",
      "14         3500           0.132075\n",
      "15         3750           0.220790\n",
      "16         4000           0.183721\n",
      "17         4250           0.366412\n",
      "18         4500           0.384937\n",
      "19         4750           0.309302\n",
      "20         5000           0.433566\n"
     ]
    }
   ],
   "source": [
    "bin_width = 250\n",
    "\n",
    "max_distance = df['Distance'].max()\n",
    "num_bins = int(np.ceil(max_distance / bin_width))\n",
    "\n",
    "bins = np.arange(0, (num_bins + 1) * bin_width, bin_width)\n",
    "\n",
    "df['DistanceBins'] = pd.cut(df['Distance'], bins=bins, labels=bins[:-1])\n",
    "\n",
    "bin_proportions = df.groupby('DistanceBins')['DepDel15'].mean().reset_index()\n",
    "\n",
    "bin_proportions.columns = ['DistanceBins', 'ProportionDelayed']\n",
    "\n",
    "print(bin_proportions)"
   ]
  },
  {
   "cell_type": "code",
   "execution_count": 56,
   "metadata": {},
   "outputs": [],
   "source": [
    "df_cluster = df[['DayOfMonth', \n",
    "'DayOfWeek',\n",
    "'Reporting_Airline',\n",
    "'Origin',\n",
    "'Dest',\n",
    "'DistanceBins',\n",
    "'DepHour',\n",
    "'FlightsSameTime80',\n",
    "'DepDel15']]"
   ]
  },
  {
   "cell_type": "code",
   "execution_count": 57,
   "metadata": {},
   "outputs": [
    {
     "name": "stderr",
     "output_type": "stream",
     "text": [
      "C:\\Users\\marti\\AppData\\Local\\Temp\\ipykernel_22604\\592892694.py:9: SettingWithCopyWarning: \n",
      "A value is trying to be set on a copy of a slice from a DataFrame.\n",
      "Try using .loc[row_indexer,col_indexer] = value instead\n",
      "\n",
      "See the caveats in the documentation: https://pandas.pydata.org/pandas-docs/stable/user_guide/indexing.html#returning-a-view-versus-a-copy\n",
      "  df_cluster[col] = encoder.fit_transform(df_cluster[col])\n",
      "C:\\Users\\marti\\AppData\\Local\\Temp\\ipykernel_22604\\592892694.py:9: SettingWithCopyWarning: \n",
      "A value is trying to be set on a copy of a slice from a DataFrame.\n",
      "Try using .loc[row_indexer,col_indexer] = value instead\n",
      "\n",
      "See the caveats in the documentation: https://pandas.pydata.org/pandas-docs/stable/user_guide/indexing.html#returning-a-view-versus-a-copy\n",
      "  df_cluster[col] = encoder.fit_transform(df_cluster[col])\n",
      "C:\\Users\\marti\\AppData\\Local\\Temp\\ipykernel_22604\\592892694.py:9: SettingWithCopyWarning: \n",
      "A value is trying to be set on a copy of a slice from a DataFrame.\n",
      "Try using .loc[row_indexer,col_indexer] = value instead\n",
      "\n",
      "See the caveats in the documentation: https://pandas.pydata.org/pandas-docs/stable/user_guide/indexing.html#returning-a-view-versus-a-copy\n",
      "  df_cluster[col] = encoder.fit_transform(df_cluster[col])\n",
      "C:\\Users\\marti\\AppData\\Local\\Temp\\ipykernel_22604\\592892694.py:9: SettingWithCopyWarning: \n",
      "A value is trying to be set on a copy of a slice from a DataFrame.\n",
      "Try using .loc[row_indexer,col_indexer] = value instead\n",
      "\n",
      "See the caveats in the documentation: https://pandas.pydata.org/pandas-docs/stable/user_guide/indexing.html#returning-a-view-versus-a-copy\n",
      "  df_cluster[col] = encoder.fit_transform(df_cluster[col])\n",
      "C:\\Users\\marti\\AppData\\Local\\Temp\\ipykernel_22604\\592892694.py:9: SettingWithCopyWarning: \n",
      "A value is trying to be set on a copy of a slice from a DataFrame.\n",
      "Try using .loc[row_indexer,col_indexer] = value instead\n",
      "\n",
      "See the caveats in the documentation: https://pandas.pydata.org/pandas-docs/stable/user_guide/indexing.html#returning-a-view-versus-a-copy\n",
      "  df_cluster[col] = encoder.fit_transform(df_cluster[col])\n",
      "C:\\Users\\marti\\AppData\\Local\\Temp\\ipykernel_22604\\592892694.py:9: SettingWithCopyWarning: \n",
      "A value is trying to be set on a copy of a slice from a DataFrame.\n",
      "Try using .loc[row_indexer,col_indexer] = value instead\n",
      "\n",
      "See the caveats in the documentation: https://pandas.pydata.org/pandas-docs/stable/user_guide/indexing.html#returning-a-view-versus-a-copy\n",
      "  df_cluster[col] = encoder.fit_transform(df_cluster[col])\n",
      "C:\\Users\\marti\\AppData\\Local\\Temp\\ipykernel_22604\\592892694.py:9: SettingWithCopyWarning: \n",
      "A value is trying to be set on a copy of a slice from a DataFrame.\n",
      "Try using .loc[row_indexer,col_indexer] = value instead\n",
      "\n",
      "See the caveats in the documentation: https://pandas.pydata.org/pandas-docs/stable/user_guide/indexing.html#returning-a-view-versus-a-copy\n",
      "  df_cluster[col] = encoder.fit_transform(df_cluster[col])\n",
      "C:\\Users\\marti\\AppData\\Local\\Temp\\ipykernel_22604\\592892694.py:9: SettingWithCopyWarning: \n",
      "A value is trying to be set on a copy of a slice from a DataFrame.\n",
      "Try using .loc[row_indexer,col_indexer] = value instead\n",
      "\n",
      "See the caveats in the documentation: https://pandas.pydata.org/pandas-docs/stable/user_guide/indexing.html#returning-a-view-versus-a-copy\n",
      "  df_cluster[col] = encoder.fit_transform(df_cluster[col])\n"
     ]
    },
    {
     "data": {
      "image/png": "[encoded data removed]",
      "text/plain": [
       "<Figure size 432x288 with 1 Axes>"
      ]
     },
     "metadata": {
      "needs_background": "light"
     },
     "output_type": "display_data"
    },
    {
     "name": "stderr",
     "output_type": "stream",
     "text": [
      "C:\\Users\\marti\\AppData\\Local\\Temp\\ipykernel_22604\\592892694.py:29: SettingWithCopyWarning: \n",
      "A value is trying to be set on a copy of a slice from a DataFrame.\n",
      "Try using .loc[row_indexer,col_indexer] = value instead\n",
      "\n",
      "See the caveats in the documentation: https://pandas.pydata.org/pandas-docs/stable/user_guide/indexing.html#returning-a-view-versus-a-copy\n",
      "  df_cluster[f'MCA_Comp_{i+1}'] = mca_coordinates[:, i]\n",
      "C:\\Users\\marti\\AppData\\Local\\Temp\\ipykernel_22604\\592892694.py:29: SettingWithCopyWarning: \n",
      "A value is trying to be set on a copy of a slice from a DataFrame.\n",
      "Try using .loc[row_indexer,col_indexer] = value instead\n",
      "\n",
      "See the caveats in the documentation: https://pandas.pydata.org/pandas-docs/stable/user_guide/indexing.html#returning-a-view-versus-a-copy\n",
      "  df_cluster[f'MCA_Comp_{i+1}'] = mca_coordinates[:, i]\n",
      "C:\\Users\\marti\\AppData\\Local\\Temp\\ipykernel_22604\\592892694.py:29: SettingWithCopyWarning: \n",
      "A value is trying to be set on a copy of a slice from a DataFrame.\n",
      "Try using .loc[row_indexer,col_indexer] = value instead\n",
      "\n",
      "See the caveats in the documentation: https://pandas.pydata.org/pandas-docs/stable/user_guide/indexing.html#returning-a-view-versus-a-copy\n",
      "  df_cluster[f'MCA_Comp_{i+1}'] = mca_coordinates[:, i]\n",
      "C:\\Users\\marti\\AppData\\Local\\Temp\\ipykernel_22604\\592892694.py:29: SettingWithCopyWarning: \n",
      "A value is trying to be set on a copy of a slice from a DataFrame.\n",
      "Try using .loc[row_indexer,col_indexer] = value instead\n",
      "\n",
      "See the caveats in the documentation: https://pandas.pydata.org/pandas-docs/stable/user_guide/indexing.html#returning-a-view-versus-a-copy\n",
      "  df_cluster[f'MCA_Comp_{i+1}'] = mca_coordinates[:, i]\n",
      "C:\\Users\\marti\\AppData\\Local\\Temp\\ipykernel_22604\\592892694.py:29: SettingWithCopyWarning: \n",
      "A value is trying to be set on a copy of a slice from a DataFrame.\n",
      "Try using .loc[row_indexer,col_indexer] = value instead\n",
      "\n",
      "See the caveats in the documentation: https://pandas.pydata.org/pandas-docs/stable/user_guide/indexing.html#returning-a-view-versus-a-copy\n",
      "  df_cluster[f'MCA_Comp_{i+1}'] = mca_coordinates[:, i]\n",
      "C:\\Users\\marti\\AppData\\Local\\Temp\\ipykernel_22604\\592892694.py:29: SettingWithCopyWarning: \n",
      "A value is trying to be set on a copy of a slice from a DataFrame.\n",
      "Try using .loc[row_indexer,col_indexer] = value instead\n",
      "\n",
      "See the caveats in the documentation: https://pandas.pydata.org/pandas-docs/stable/user_guide/indexing.html#returning-a-view-versus-a-copy\n",
      "  df_cluster[f'MCA_Comp_{i+1}'] = mca_coordinates[:, i]\n",
      "C:\\Users\\marti\\AppData\\Local\\Temp\\ipykernel_22604\\592892694.py:29: SettingWithCopyWarning: \n",
      "A value is trying to be set on a copy of a slice from a DataFrame.\n",
      "Try using .loc[row_indexer,col_indexer] = value instead\n",
      "\n",
      "See the caveats in the documentation: https://pandas.pydata.org/pandas-docs/stable/user_guide/indexing.html#returning-a-view-versus-a-copy\n",
      "  df_cluster[f'MCA_Comp_{i+1}'] = mca_coordinates[:, i]\n"
     ]
    },
    {
     "name": "stdout",
     "output_type": "stream",
     "text": [
      "         DayOfMonth  DayOfWeek  Reporting_Airline  Origin  Dest  DistanceBins  \\\n",
      "0                 0          6                  4      89   301             1   \n",
      "1                 0          6                  3     199   270             2   \n",
      "2                 0          6                  3     188   117             4   \n",
      "3                 0          6                  3     117   188             4   \n",
      "4                 0          6                  3      42   179            10   \n",
      "...             ...        ...                ...     ...   ...           ...   \n",
      "2147035          29          6                 12     290   292             2   \n",
      "2147036          29          6                  1      42    86             1   \n",
      "2147037          29          6                  1     285   245             2   \n",
      "2147038          29          6                  1      21   322             3   \n",
      "2147039          29          6                  4      19   267             1   \n",
      "\n",
      "         DepHour  FlightsSameTime80  DepDel15  MCA_Comp_1  MCA_Comp_2  \\\n",
      "0             12                  0       1.0  151.606345   35.439538   \n",
      "1             17                  0       1.0   54.469029   95.627180   \n",
      "2              9                  0       0.0  -50.959918  -15.802325   \n",
      "3             13                  0       0.0   49.362138  -20.217016   \n",
      "4             21                  0       1.0   93.396667  -81.590465   \n",
      "...          ...                ...       ...         ...         ...   \n",
      "2147035       14                  0       0.0    9.231321  177.613336   \n",
      "2147036       17                  0       1.0   24.797514 -144.439562   \n",
      "2147037        6                  0       0.0  -22.076267  142.158211   \n",
      "2147038       18                  0       1.0  213.032518   -0.540849   \n",
      "2147039        9                  0       0.0  173.797707  -39.154433   \n",
      "\n",
      "         MCA_Comp_3  MCA_Comp_4  MCA_Comp_5  MCA_Comp_6  MCA_Comp_7  \\\n",
      "0        -14.593675    0.621163    3.890485   -2.271991   -3.086200   \n",
      "1        -14.586546   -4.791880    3.991580   -1.583456   -3.021129   \n",
      "2        -14.607591    2.820981    5.603024    0.792450   -2.953448   \n",
      "3        -14.617054   -0.835878    4.814056    0.805534   -2.936457   \n",
      "4        -14.660564   -8.621797    3.721766    6.997528   -2.614415   \n",
      "...             ...         ...         ...         ...         ...   \n",
      "2147035   14.442786   -0.214307   -3.977744   -0.775526   -3.050736   \n",
      "2147036   14.339928   -5.111201    5.261487   -1.902492   -3.076192   \n",
      "2147037   14.451205    5.251497    8.288323   -1.973406   -3.101581   \n",
      "2147038   14.380824   -5.790517    5.715590   -0.464796   -2.992388   \n",
      "2147039   14.389191    3.615837    4.359958   -1.977224   -3.118896   \n",
      "\n",
      "         MCA_Comp_8  \n",
      "0         -0.002854  \n",
      "1         -0.003380  \n",
      "2         -0.000358  \n",
      "3         -0.002139  \n",
      "4         -0.004096  \n",
      "...             ...  \n",
      "2147035   -0.003867  \n",
      "2147036   -0.004542  \n",
      "2147037   -0.000778  \n",
      "2147038   -0.005711  \n",
      "2147039   -0.003379  \n",
      "\n",
      "[2147040 rows x 17 columns]\n"
     ]
    },
    {
     "name": "stderr",
     "output_type": "stream",
     "text": [
      "C:\\Users\\marti\\AppData\\Local\\Temp\\ipykernel_22604\\592892694.py:29: SettingWithCopyWarning: \n",
      "A value is trying to be set on a copy of a slice from a DataFrame.\n",
      "Try using .loc[row_indexer,col_indexer] = value instead\n",
      "\n",
      "See the caveats in the documentation: https://pandas.pydata.org/pandas-docs/stable/user_guide/indexing.html#returning-a-view-versus-a-copy\n",
      "  df_cluster[f'MCA_Comp_{i+1}'] = mca_coordinates[:, i]\n"
     ]
    }
   ],
   "source": [
    "from sklearn.preprocessing import LabelEncoder\n",
    "from sklearn.decomposition import PCA\n",
    "import matplotlib.pyplot as plt\n",
    "\n",
    "# Encode categorical variables\n",
    "encoder = LabelEncoder()\n",
    "categorical_columns = ['DayOfMonth', 'DayOfWeek', 'Reporting_Airline', 'Origin', 'Dest', 'DistanceBins', 'DepHour', 'FlightsSameTime80']\n",
    "for col in categorical_columns:\n",
    "    df_cluster[col] = encoder.fit_transform(df_cluster[col])\n",
    "\n",
    "# Perform MCA\n",
    "mca_data = df_cluster[categorical_columns].values\n",
    "mca = PCA(n_components=len(categorical_columns))\n",
    "mca.fit(mca_data)\n",
    "\n",
    "# Visualize explained variance ratio\n",
    "explained_variance_ratio = mca.explained_variance_ratio_\n",
    "plt.bar(range(1, len(explained_variance_ratio) + 1), explained_variance_ratio)\n",
    "plt.xlabel('Principal Component')\n",
    "plt.ylabel('Explained Variance Ratio')\n",
    "plt.title('Explained Variance Ratio for MCA')\n",
    "plt.show()\n",
    "\n",
    "# Retrieve coordinates of categories\n",
    "mca_coordinates = mca.transform(mca_data)\n",
    "\n",
    "# Add MCA coordinates to the DataFrame\n",
    "for i in range(len(categorical_columns)):\n",
    "    df_cluster[f'MCA_Comp_{i+1}'] = mca_coordinates[:, i]\n",
    "\n",
    "# View the DataFrame with MCA coordinates\n",
    "print(df_cluster)"
   ]
  }
 ],
 "metadata": {
  "kernelspec": {
   "display_name": "Python 3",
   "language": "python",
   "name": "python3"
  },
  "language_info": {
   "codemirror_mode": {
    "name": "ipython",
    "version": 3
   },
   "file_extension": ".py",
   "mimetype": "text/x-python",
   "name": "python",
   "nbconvert_exporter": "python",
   "pygments_lexer": "ipython3",
   "version": "3.10.5"
  },
  "orig_nbformat": 4
 },
 "nbformat": 4,
 "nbformat_minor": 2
}
