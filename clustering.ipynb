{
 "cells": [
  {
   "cell_type": "markdown",
   "metadata": {},
   "source": [
    "# Clustering"
   ]
  },
  {
   "cell_type": "code",
   "execution_count": 1,
   "metadata": {},
   "outputs": [],
   "source": [
    "import pandas as pd\n",
    "import numpy as np\n",
    "import matplotlib.pyplot as plt\n",
    "import seaborn as sns\n",
    "\n",
    "\n",
    "df = pd.read_csv('data/flights_processed.csv')"
   ]
  },
  {
   "cell_type": "markdown",
   "metadata": {},
   "source": [
    "## Separate into a new dataframe, relevant variables for clustering analysis"
   ]
  },
  {
   "cell_type": "code",
   "execution_count": 11,
   "metadata": {},
   "outputs": [
    {
     "name": "stdout",
     "output_type": "stream",
     "text": [
      "   DistanceBins  ProportionDelayed\n",
      "0             0           0.179632\n",
      "1           250           0.185714\n",
      "2           500           0.204567\n",
      "3           750           0.230126\n",
      "4          1000           0.248719\n",
      "5          1250           0.226455\n",
      "6          1500           0.241812\n",
      "7          1750           0.243719\n",
      "8          2000           0.250015\n",
      "9          2250           0.225178\n",
      "10         2500           0.239912\n",
      "11         2750           0.189349\n",
      "12         3000           0.500000\n",
      "13         3250           0.257868\n",
      "14         3500           0.132075\n",
      "15         3750           0.220790\n",
      "16         4000           0.183721\n",
      "17         4250           0.366412\n",
      "18         4500           0.384937\n",
      "19         4750           0.309302\n",
      "20         5000           0.433566\n"
     ]
    }
   ],
   "source": [
    "bin_width = 250\n",
    "\n",
    "max_distance = df['Distance'].max()\n",
    "num_bins = int(np.ceil(max_distance / bin_width))\n",
    "\n",
    "bins = np.arange(0, (num_bins + 1) * bin_width, bin_width)\n",
    "\n",
    "df['DistanceBins'] = pd.cut(df['Distance'], bins=bins, labels=bins[:-1])\n",
    "\n",
    "bin_proportions = df.groupby('DistanceBins')['DepDel15'].mean().reset_index()\n",
    "\n",
    "bin_proportions.columns = ['DistanceBins', 'ProportionDelayed']\n",
    "\n",
    "print(bin_proportions)"
   ]
  },
  {
   "cell_type": "code",
   "execution_count": 2,
   "metadata": {},
   "outputs": [],
   "source": [
    "df_cluster = df[['DayOfMonth', \n",
    "'DayOfWeek',\n",
    "'Reporting_Airline',\n",
    "'DepHour',\n",
    "'FlightsSameTime80',\n",
    "'DepDel15']]"
   ]
  },
  {
   "cell_type": "code",
   "execution_count": 3,
   "metadata": {},
   "outputs": [
    {
     "ename": "AttributeError",
     "evalue": "'MCA' object has no attribute 'plot_explained_variance'",
     "output_type": "error",
     "traceback": [
      "\u001b[1;31m---------------------------------------------------------------------------\u001b[0m",
      "\u001b[1;31mAttributeError\u001b[0m                            Traceback (most recent call last)",
      "\u001b[1;32mc:\\Here\\ML Projects\\flight-delay-predictions\\clustering.ipynb Cell 6\u001b[0m in \u001b[0;36m<cell line: 7>\u001b[1;34m()\u001b[0m\n\u001b[0;32m      <a href='vscode-notebook-cell:/c%3A/Here/ML%20Projects/flight-delay-predictions/clustering.ipynb#W6sZmlsZQ%3D%3D?line=4'>5</a>\u001b[0m mca \u001b[39m=\u001b[39m MCA()\n\u001b[0;32m      <a href='vscode-notebook-cell:/c%3A/Here/ML%20Projects/flight-delay-predictions/clustering.ipynb#W6sZmlsZQ%3D%3D?line=5'>6</a>\u001b[0m mca\u001b[39m.\u001b[39mfit(df_encoded)\n\u001b[1;32m----> <a href='vscode-notebook-cell:/c%3A/Here/ML%20Projects/flight-delay-predictions/clustering.ipynb#W6sZmlsZQ%3D%3D?line=6'>7</a>\u001b[0m mca\u001b[39m.\u001b[39;49mplot_explained_variance()\n\u001b[0;32m      <a href='vscode-notebook-cell:/c%3A/Here/ML%20Projects/flight-delay-predictions/clustering.ipynb#W6sZmlsZQ%3D%3D?line=7'>8</a>\u001b[0m mca_results \u001b[39m=\u001b[39m mca\u001b[39m.\u001b[39mtransform(df_encoded)\n\u001b[0;32m      <a href='vscode-notebook-cell:/c%3A/Here/ML%20Projects/flight-delay-predictions/clustering.ipynb#W6sZmlsZQ%3D%3D?line=8'>9</a>\u001b[0m mca_results[\u001b[39m'\u001b[39m\u001b[39mDepDel15\u001b[39m\u001b[39m'\u001b[39m] \u001b[39m=\u001b[39m df_cluster[\u001b[39m'\u001b[39m\u001b[39mDepDel15\u001b[39m\u001b[39m'\u001b[39m]\n",
      "\u001b[1;31mAttributeError\u001b[0m: 'MCA' object has no attribute 'plot_explained_variance'"
     ]
    }
   ],
   "source": [
    "from prince import MCA\n",
    "\n",
    "df_encoded = pd.get_dummies(df_cluster, columns=['DayOfMonth', 'DayOfWeek', 'Reporting_Airline', 'DepHour', 'FlightsSameTime80'], drop_first=True)\n",
    "\n",
    "mca = MCA()\n",
    "mca.fit(df_encoded)\n",
    "mca.plot_explained_variance()\n",
    "mca_results = mca.transform(df_encoded)\n",
    "mca_results['DepDel15'] = df_cluster['DepDel15']\n"
   ]
  },
  {
   "cell_type": "code",
   "execution_count": 4,
   "metadata": {},
   "outputs": [
    {
     "name": "stderr",
     "output_type": "stream",
     "text": [
      "C:\\Users\\marti\\AppData\\Local\\Temp\\ipykernel_19856\\2911364951.py:9: SettingWithCopyWarning: \n",
      "A value is trying to be set on a copy of a slice from a DataFrame.\n",
      "Try using .loc[row_indexer,col_indexer] = value instead\n",
      "\n",
      "See the caveats in the documentation: https://pandas.pydata.org/pandas-docs/stable/user_guide/indexing.html#returning-a-view-versus-a-copy\n",
      "  df_cluster[col] = encoder.fit_transform(df_cluster[col])\n",
      "C:\\Users\\marti\\AppData\\Local\\Temp\\ipykernel_19856\\2911364951.py:9: SettingWithCopyWarning: \n",
      "A value is trying to be set on a copy of a slice from a DataFrame.\n",
      "Try using .loc[row_indexer,col_indexer] = value instead\n",
      "\n",
      "See the caveats in the documentation: https://pandas.pydata.org/pandas-docs/stable/user_guide/indexing.html#returning-a-view-versus-a-copy\n",
      "  df_cluster[col] = encoder.fit_transform(df_cluster[col])\n",
      "C:\\Users\\marti\\AppData\\Local\\Temp\\ipykernel_19856\\2911364951.py:9: SettingWithCopyWarning: \n",
      "A value is trying to be set on a copy of a slice from a DataFrame.\n",
      "Try using .loc[row_indexer,col_indexer] = value instead\n",
      "\n",
      "See the caveats in the documentation: https://pandas.pydata.org/pandas-docs/stable/user_guide/indexing.html#returning-a-view-versus-a-copy\n",
      "  df_cluster[col] = encoder.fit_transform(df_cluster[col])\n",
      "C:\\Users\\marti\\AppData\\Local\\Temp\\ipykernel_19856\\2911364951.py:9: SettingWithCopyWarning: \n",
      "A value is trying to be set on a copy of a slice from a DataFrame.\n",
      "Try using .loc[row_indexer,col_indexer] = value instead\n",
      "\n",
      "See the caveats in the documentation: https://pandas.pydata.org/pandas-docs/stable/user_guide/indexing.html#returning-a-view-versus-a-copy\n",
      "  df_cluster[col] = encoder.fit_transform(df_cluster[col])\n",
      "C:\\Users\\marti\\AppData\\Local\\Temp\\ipykernel_19856\\2911364951.py:9: SettingWithCopyWarning: \n",
      "A value is trying to be set on a copy of a slice from a DataFrame.\n",
      "Try using .loc[row_indexer,col_indexer] = value instead\n",
      "\n",
      "See the caveats in the documentation: https://pandas.pydata.org/pandas-docs/stable/user_guide/indexing.html#returning-a-view-versus-a-copy\n",
      "  df_cluster[col] = encoder.fit_transform(df_cluster[col])\n"
     ]
    },
    {
     "data": {
      "image/png": "[encoded data removed]",
      "text/plain": [
       "<Figure size 432x288 with 1 Axes>"
      ]
     },
     "metadata": {
      "needs_background": "light"
     },
     "output_type": "display_data"
    },
    {
     "name": "stdout",
     "output_type": "stream",
     "text": [
      "         DayOfMonth  DayOfWeek  Reporting_Airline  DepHour  FlightsSameTime80  \\\n",
      "0                 0          6                  4       12                  0   \n",
      "1                 0          6                  3       17                  0   \n",
      "2                 0          6                  3        9                  0   \n",
      "3                 0          6                  3       13                  0   \n",
      "4                 0          6                  3       21                  0   \n",
      "...             ...        ...                ...      ...                ...   \n",
      "2147035          29          6                 12       14                  0   \n",
      "2147036          29          6                  1       17                  0   \n",
      "2147037          29          6                  1        6                  0   \n",
      "2147038          29          6                  1       18                  0   \n",
      "2147039          29          6                  4        9                  0   \n",
      "\n",
      "         DepDel15  MCA_Comp_1  MCA_Comp_2  MCA_Comp_3  MCA_Comp_4  MCA_Comp_5  \n",
      "0             1.0  -14.606817    0.358449    3.947334    2.979243   -0.001654  \n",
      "1             1.0  -14.616710   -4.739763    4.033865    2.953685   -0.003008  \n",
      "2             0.0  -14.600161    3.130282    5.469438    2.988980   -0.000729  \n",
      "3             0.0  -14.608436   -0.804740    4.751652    2.971333   -0.001868  \n",
      "4             1.0  -14.624984   -8.674785    3.316079    2.936038   -0.004147  \n",
      "...           ...         ...         ...         ...         ...         ...  \n",
      "2147035       0.0   14.385366   -0.230398   -4.305211    3.024762   -0.003938  \n",
      "2147036       1.0   14.384114   -5.155432    5.977851    2.973048   -0.004011  \n",
      "2147037       0.0   14.406868    5.665880    7.951763    3.021578   -0.000877  \n",
      "2147038       1.0   14.382045   -6.139188    5.798404    2.968636   -0.004296  \n",
      "2147039       0.0   14.399311    3.252913    4.462132    3.018837   -0.001945  \n",
      "\n",
      "[2147040 rows x 11 columns]\n"
     ]
    },
    {
     "name": "stderr",
     "output_type": "stream",
     "text": [
      "C:\\Users\\marti\\AppData\\Local\\Temp\\ipykernel_19856\\2911364951.py:29: SettingWithCopyWarning: \n",
      "A value is trying to be set on a copy of a slice from a DataFrame.\n",
      "Try using .loc[row_indexer,col_indexer] = value instead\n",
      "\n",
      "See the caveats in the documentation: https://pandas.pydata.org/pandas-docs/stable/user_guide/indexing.html#returning-a-view-versus-a-copy\n",
      "  df_cluster[f'MCA_Comp_{i+1}'] = mca_coordinates[:, i]\n",
      "C:\\Users\\marti\\AppData\\Local\\Temp\\ipykernel_19856\\2911364951.py:29: SettingWithCopyWarning: \n",
      "A value is trying to be set on a copy of a slice from a DataFrame.\n",
      "Try using .loc[row_indexer,col_indexer] = value instead\n",
      "\n",
      "See the caveats in the documentation: https://pandas.pydata.org/pandas-docs/stable/user_guide/indexing.html#returning-a-view-versus-a-copy\n",
      "  df_cluster[f'MCA_Comp_{i+1}'] = mca_coordinates[:, i]\n",
      "C:\\Users\\marti\\AppData\\Local\\Temp\\ipykernel_19856\\2911364951.py:29: SettingWithCopyWarning: \n",
      "A value is trying to be set on a copy of a slice from a DataFrame.\n",
      "Try using .loc[row_indexer,col_indexer] = value instead\n",
      "\n",
      "See the caveats in the documentation: https://pandas.pydata.org/pandas-docs/stable/user_guide/indexing.html#returning-a-view-versus-a-copy\n",
      "  df_cluster[f'MCA_Comp_{i+1}'] = mca_coordinates[:, i]\n",
      "C:\\Users\\marti\\AppData\\Local\\Temp\\ipykernel_19856\\2911364951.py:29: SettingWithCopyWarning: \n",
      "A value is trying to be set on a copy of a slice from a DataFrame.\n",
      "Try using .loc[row_indexer,col_indexer] = value instead\n",
      "\n",
      "See the caveats in the documentation: https://pandas.pydata.org/pandas-docs/stable/user_guide/indexing.html#returning-a-view-versus-a-copy\n",
      "  df_cluster[f'MCA_Comp_{i+1}'] = mca_coordinates[:, i]\n",
      "C:\\Users\\marti\\AppData\\Local\\Temp\\ipykernel_19856\\2911364951.py:29: SettingWithCopyWarning: \n",
      "A value is trying to be set on a copy of a slice from a DataFrame.\n",
      "Try using .loc[row_indexer,col_indexer] = value instead\n",
      "\n",
      "See the caveats in the documentation: https://pandas.pydata.org/pandas-docs/stable/user_guide/indexing.html#returning-a-view-versus-a-copy\n",
      "  df_cluster[f'MCA_Comp_{i+1}'] = mca_coordinates[:, i]\n"
     ]
    }
   ],
   "source": [
    "from sklearn.preprocessing import LabelEncoder\n",
    "from sklearn.decomposition import PCA\n",
    "import matplotlib.pyplot as plt\n",
    "\n",
    "# Encode categorical variables\n",
    "encoder = LabelEncoder()\n",
    "categorical_columns = ['DayOfMonth', 'DayOfWeek', 'Reporting_Airline', 'DepHour', 'FlightsSameTime80']\n",
    "for col in categorical_columns:\n",
    "    df_cluster[col] = encoder.fit_transform(df_cluster[col])\n",
    "\n",
    "# Perform MCA\n",
    "mca_data = df_cluster[categorical_columns].values\n",
    "mca = PCA(n_components=len(categorical_columns))\n",
    "mca.fit(mca_data)\n",
    "\n",
    "# Visualize explained variance ratio\n",
    "explained_variance_ratio = mca.explained_variance_ratio_\n",
    "plt.bar(range(1, len(explained_variance_ratio) + 1), explained_variance_ratio)\n",
    "plt.xlabel('Principal Component')\n",
    "plt.ylabel('Explained Variance Ratio')\n",
    "plt.title('Explained Variance Ratio for MCA')\n",
    "plt.show()\n",
    "\n",
    "# Retrieve coordinates of categories\n",
    "mca_coordinates = mca.transform(mca_data)\n",
    "\n",
    "# Add MCA coordinates to the DataFrame\n",
    "for i in range(len(categorical_columns)):\n",
    "    df_cluster[f'MCA_Comp_{i+1}'] = mca_coordinates[:, i]\n",
    "\n",
    "# View the DataFrame with MCA coordinates\n",
    "print(df_cluster)"
   ]
  },
  {
   "cell_type": "code",
   "execution_count": null,
   "metadata": {},
   "outputs": [],
   "source": [
    "import matplotlib.pyplot as plt\n",
    "\n",
    "# Plot MCA categories (using the first two components, adjust as needed)\n",
    "plt.figure(figsize=(10, 8))\n",
    "plt.scatter(mca_coordinates[:, 0], mca_coordinates[:, 1], alpha=0.5)\n",
    "plt.xlabel('MCA Component 1')\n",
    "plt.ylabel('MCA Component 2')\n",
    "plt.title('MCA Category Plot')\n",
    "# Add labels for the original categories\n",
    "for i, txt in enumerate(df_cluster['YourOriginalCategoryColumn']):\n",
    "    plt.annotate(txt, (mca_coordinates[i, 0], mca_coordinates[i, 1]))\n",
    "plt.grid(True)\n",
    "plt.show()"
   ]
  }
 ],
 "metadata": {
  "kernelspec": {
   "display_name": "Python 3",
   "language": "python",
   "name": "python3"
  },
  "language_info": {
   "codemirror_mode": {
    "name": "ipython",
    "version": 3
   },
   "file_extension": ".py",
   "mimetype": "text/x-python",
   "name": "python",
   "nbconvert_exporter": "python",
   "pygments_lexer": "ipython3",
   "version": "3.10.5"
  },
  "orig_nbformat": 4
 },
 "nbformat": 4,
 "nbformat_minor": 2
}
