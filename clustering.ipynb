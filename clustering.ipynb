{
 "cells": [
  {
   "cell_type": "markdown",
   "metadata": {},
   "source": [
    "## Separate into a new dataframe, relevant variables for clustering analysis"
   ]
  },
  {
   "cell_type": "code",
   "execution_count": null,
   "metadata": {},
   "outputs": [],
   "source": [
    "from scipy import stats\n",
    "correlation_coefficient, p_value = stats.pointbiserialr(df['DepDel15'].replace(np.NaN, 0), df['FlightsSameTime80'])\n",
    "\n",
    "print(correlation_coefficient)\n",
    "print(p_value)"
   ]
  },
  {
   "cell_type": "code",
   "execution_count": null,
   "metadata": {},
   "outputs": [],
   "source": [
    "contingency_table = pd.crosstab(df['DepDel15'], df['FlightsSameTime80'])\n",
    "\n",
    "# Perform chi-squared test\n",
    "chi2, p, _, _ = chi2_contingency(contingency_table)\n",
    "\n",
    "print(f\"Chi-squared value: {chi2}\")\n",
    "print(f\"P-value: {p}\")"
   ]
  },
  {
   "cell_type": "code",
   "execution_count": null,
   "metadata": {},
   "outputs": [],
   "source": [
    "import statsmodels.api as sm\n",
    "contingency_table = pd.crosstab(df['FlightsSameTime80'], df['DepDel15'])\n",
    "\n",
    "# Perform z-test for proportions\n",
    "_, p_value = sm.stats.proportions_ztest(contingency_table.values[1], contingency_table.sum(axis=0))"
   ]
  },
  {
   "cell_type": "code",
   "execution_count": null,
   "metadata": {},
   "outputs": [],
   "source": [
    "bin_width = 250\n",
    "\n",
    "max_distance = df['Distance'].max()\n",
    "num_bins = int(np.ceil(max_distance / bin_width))\n",
    "\n",
    "distance_bins = np.arange(0, (num_bins + 1) * bin_width, bin_width)\n",
    "\n",
    "df['distanceBins'] = pd.cut(df['Distance'], bins=bins, labels=bins[:-1])"
   ]
  },
  {
   "cell_type": "code",
   "execution_count": null,
   "metadata": {},
   "outputs": [],
   "source": [
    "df_cluster = df[['DayOfMonth', \n",
    "'DayOfWeek',\n",
    "'Reporting_Airline',\n",
    "'Origin', \n",
    "'Dest',\n",
    "'distanceBins',\n",
    "'DepHour',\n",
    "'FlightsSameTime80',\n",
    "'DepDel15']]"
   ]
  },
  {
   "cell_type": "code",
   "execution_count": null,
   "metadata": {},
   "outputs": [],
   "source": [
    "from prince import MCA\n",
    "# Make sure 'DepDel15' is treated as a categorical variable\n",
    "df_cluster['DepDel15'] = df_cluster['DepDel15'].astype('category')\n",
    "categorical_columns = df_cluster.select_dtypes(include=['object', 'category'])\n",
    "\n",
    "# Create an MCA object and fit it to the df_cluster\n",
    "mca = MCA()\n",
    "mca.fit(categorical_columns)\n",
    "\n",
    "# Transform the df_cluster into MCA coordinates\n",
    "mca_coordinates = mca.transform(categorical_columns)\n",
    "\n",
    "# Access the results\n",
    "eigenvalues = mca.eigenvalues_\n",
    "explained_var_ratio = mca.explained_inertia_"
   ]
  },
  {
   "cell_type": "code",
   "execution_count": null,
   "metadata": {},
   "outputs": [],
   "source": [
    "plt.figure(figsize=(8, 5))\n",
    "plt.plot(range(1, len(eigenvalues) + 1), eigenvalues, marker='o')\n",
    "plt.xlabel('Dimension')\n",
    "plt.ylabel('Eigenvalue')\n",
    "plt.title('Scree Plot')\n",
    "plt.grid(True)"
   ]
  }
 ],
 "metadata": {
  "language_info": {
   "name": "python"
  },
  "orig_nbformat": 4
 },
 "nbformat": 4,
 "nbformat_minor": 2
}
