{
 "cells": [
  {
   "cell_type": "code",
   "execution_count": 7,
   "metadata": {},
   "outputs": [
    {
     "name": "stderr",
     "output_type": "stream",
     "text": [
      "C:\\Users\\peric\\AppData\\Local\\Temp\\ipykernel_11948\\947797172.py:3: DtypeWarning: Columns (78,85) have mixed types. Specify dtype option on import or set low_memory=False.\n",
      "  df = pd.read_csv(\"data/flights_raw.csv\")\n"
     ]
    }
   ],
   "source": [
    "import pandas as pd\n",
    "import numpy as np\n",
    "df = pd.read_csv(\"data/flights_raw.csv\")"
   ]
  },
  {
   "cell_type": "code",
   "execution_count": 8,
   "metadata": {},
   "outputs": [
    {
     "name": "stdout",
     "output_type": "stream",
     "text": [
      "<class 'pandas.core.frame.DataFrame'>\n",
      "RangeIndex: 2183349 entries, 0 to 2183348\n",
      "Data columns (total 86 columns):\n",
      " #   Column                           Dtype  \n",
      "---  ------                           -----  \n",
      " 0   Unnamed: 0                       int64  \n",
      " 1   Year                             int64  \n",
      " 2   Quarter                          int64  \n",
      " 3   Month                            int64  \n",
      " 4   DayofMonth                       int64  \n",
      " 5   DayOfWeek                        int64  \n",
      " 6   FlightDate                       object \n",
      " 7   Reporting_Airline                object \n",
      " 8   DOT_ID_Reporting_Airline         int64  \n",
      " 9   IATA_CODE_Reporting_Airline      object \n",
      " 10  Tail_Number                      object \n",
      " 11  Flight_Number_Reporting_Airline  int64  \n",
      " 12  OriginAirportID                  int64  \n",
      " 13  OriginAirportSeqID               int64  \n",
      " 14  OriginCityMarketID               int64  \n",
      " 15  Origin                           object \n",
      " 16  OriginCityName                   object \n",
      " 17  OriginState                      object \n",
      " 18  OriginStateFips                  int64  \n",
      " 19  OriginStateName                  object \n",
      " 20  OriginWac                        int64  \n",
      " 21  DestAirportID                    int64  \n",
      " 22  DestAirportSeqID                 int64  \n",
      " 23  DestCityMarketID                 int64  \n",
      " 24  Dest                             object \n",
      " 25  DestCityName                     object \n",
      " 26  DestState                        object \n",
      " 27  DestStateFips                    int64  \n",
      " 28  DestStateName                    object \n",
      " 29  DestWac                          int64  \n",
      " 30  CRSDepTime                       int64  \n",
      " 31  DepTime                          float64\n",
      " 32  DepDelay                         float64\n",
      " 33  DepDelayMinutes                  float64\n",
      " 34  DepDel15                         float64\n",
      " 35  DepartureDelayGroups             float64\n",
      " 36  DepTimeBlk                       object \n",
      " 37  TaxiOut                          float64\n",
      " 38  WheelsOff                        float64\n",
      " 39  WheelsOn                         float64\n",
      " 40  TaxiIn                           float64\n",
      " 41  CRSArrTime                       int64  \n",
      " 42  ArrTime                          float64\n",
      " 43  ArrDelay                         float64\n",
      " 44  ArrDelayMinutes                  float64\n",
      " 45  ArrDel15                         float64\n",
      " 46  ArrivalDelayGroups               float64\n",
      " 47  ArrTimeBlk                       object \n",
      " 48  Cancelled                        float64\n",
      " 49  CancellationCode                 object \n",
      " 50  Diverted                         float64\n",
      " 51  CRSElapsedTime                   float64\n",
      " 52  ActualElapsedTime                float64\n",
      " 53  AirTime                          float64\n",
      " 54  Flights                          float64\n",
      " 55  Distance                         float64\n",
      " 56  DistanceGroup                    int64  \n",
      " 57  CarrierDelay                     float64\n",
      " 58  WeatherDelay                     float64\n",
      " 59  NASDelay                         float64\n",
      " 60  SecurityDelay                    float64\n",
      " 61  LateAircraftDelay                float64\n",
      " 62  FirstDepTime                     float64\n",
      " 63  TotalAddGTime                    float64\n",
      " 64  LongestAddGTime                  float64\n",
      " 65  DivAirportLandings               int64  \n",
      " 66  DivReachedDest                   float64\n",
      " 67  DivActualElapsedTime             float64\n",
      " 68  DivArrDelay                      float64\n",
      " 69  DivDistance                      float64\n",
      " 70  Div1Airport                      object \n",
      " 71  Div1AirportID                    float64\n",
      " 72  Div1AirportSeqID                 float64\n",
      " 73  Div1WheelsOn                     float64\n",
      " 74  Div1TotalGTime                   float64\n",
      " 75  Div1LongestGTime                 float64\n",
      " 76  Div1WheelsOff                    float64\n",
      " 77  Div1TailNum                      object \n",
      " 78  Div2Airport                      object \n",
      " 79  Div2AirportID                    float64\n",
      " 80  Div2AirportSeqID                 float64\n",
      " 81  Div2WheelsOn                     float64\n",
      " 82  Div2TotalGTime                   float64\n",
      " 83  Div2LongestGTime                 float64\n",
      " 84  Div2WheelsOff                    float64\n",
      " 85  Div2TailNum                      object \n",
      "dtypes: float64(45), int64(22), object(19)\n",
      "memory usage: 1.4+ GB\n"
     ]
    }
   ],
   "source": [
    "df.info()"
   ]
  },
  {
   "cell_type": "markdown",
   "metadata": {},
   "source": [
    "### Seleccion de columnas"
   ]
  },
  {
   "cell_type": "code",
   "execution_count": 9,
   "metadata": {},
   "outputs": [],
   "source": [
    "df.drop(columns = ['Unnamed: 0', 'DestWac', 'OriginWac', 'DOT_ID_Reporting_Airline', 'IATA_CODE_Reporting_Airline', 'OriginAirportID', 'OriginAirportSeqID', 'OriginCityMarketID', 'OriginStateFips', 'DestAirportID', 'DestAirportSeqID', 'DestCityMarketID', 'DestStateFips'], inplace=True)"
   ]
  },
  {
   "cell_type": "code",
   "execution_count": 10,
   "metadata": {},
   "outputs": [],
   "source": [
    "df = df[['Year', 'Month', 'DayofMonth', 'DayOfWeek', 'FlightDate',\n",
    "       'Reporting_Airline', 'Tail_Number', 'Flight_Number_Reporting_Airline',\n",
    "       'Origin', 'OriginCityName', 'OriginState', 'OriginStateName', 'Dest',\n",
    "       'DestCityName', 'DestState', 'DestStateName', 'CRSDepTime', 'DepTime',\n",
    "       'DepDelay', 'DepDelayMinutes', 'DepDel15', 'DepartureDelayGroups',\n",
    "       'DepTimeBlk', 'TaxiOut', 'WheelsOff', 'WheelsOn', 'TaxiIn',\n",
    "       'CRSArrTime', 'ArrTime', 'ArrDelay', 'ArrDelayMinutes', 'ArrDel15',\n",
    "       'ArrivalDelayGroups', 'ArrTimeBlk', 'Cancelled',\n",
    "       'Diverted', 'CRSElapsedTime', 'ActualElapsedTime', 'AirTime',\n",
    "       'Distance', 'DistanceGroup', 'CarrierDelay', 'WeatherDelay', 'NASDelay',\n",
    "       'SecurityDelay', 'LateAircraftDelay', 'DivAirportLandings']]"
   ]
  },
  {
   "cell_type": "code",
   "execution_count": 11,
   "metadata": {},
   "outputs": [],
   "source": [
    "df[['CarrierDelay', 'WeatherDelay', 'NASDelay', 'SecurityDelay']] = df[['CarrierDelay', 'WeatherDelay', 'NASDelay', 'SecurityDelay']].replace(np.NaN, 0)"
   ]
  },
  {
   "cell_type": "code",
   "execution_count": 12,
   "metadata": {},
   "outputs": [],
   "source": [
    "df = df.rename(columns={'DayofMonth': 'DayOfMonth'})"
   ]
  },
  {
   "cell_type": "code",
   "execution_count": 13,
   "metadata": {},
   "outputs": [],
   "source": [
    "df.to_csv('data/flights_processed.csv', index = False)"
   ]
  }
 ],
 "metadata": {
  "kernelspec": {
   "display_name": "Python 3",
   "language": "python",
   "name": "python3"
  },
  "language_info": {
   "codemirror_mode": {
    "name": "ipython",
    "version": 3
   },
   "file_extension": ".py",
   "mimetype": "text/x-python",
   "name": "python",
   "nbconvert_exporter": "python",
   "pygments_lexer": "ipython3",
   "version": "3.11.4"
  },
  "orig_nbformat": 4
 },
 "nbformat": 4,
 "nbformat_minor": 2
}
